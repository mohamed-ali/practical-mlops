{
 "cells": [
  {
   "cell_type": "code",
   "execution_count": 3,
   "id": "03fc56e8-169a-4ae7-b575-59bb64d2fd6d",
   "metadata": {},
   "outputs": [
    {
     "name": "stdout",
     "output_type": "stream",
     "text": [
      "Welcome to the Glue Interactive Sessions Kernel\n",
      "For more information on available magic commands, please type %help in any new cell.\n",
      "\n",
      "Please view our Getting Started page to access the most up-to-date information on the Interactive Sessions kernel: https://docs.aws.amazon.com/glue/latest/dg/interactive-sessions.html\n",
      "Installed kernel version: 1.0.6 \n",
      "Previous number of workers: None\n",
      "Setting new number of workers to: 2\n",
      "Previous worker type: None\n",
      "Setting new worker type to: G.1X\n"
     ]
    }
   ],
   "source": [
    "%number_of_workers 2\n",
    "# worker_type must be from [G.8X, G.4X, G.025X, G.2X, G.1X, Z.2X, Standard]\n",
    "%worker_type G.1X"
   ]
  },
  {
   "cell_type": "code",
   "execution_count": 1,
   "id": "353635b3-12b5-44df-ba2b-2f0c3ff780e6",
   "metadata": {},
   "outputs": [
    {
     "name": "stdout",
     "output_type": "stream",
     "text": [
      "Trying to create a Glue session for the kernel.\n",
      "Session Type: etl\n",
      "Worker Type: G.1X\n",
      "Number of Workers: 2\n",
      "Session ID: 060c496e-7692-4913-a457-1506dede7a62\n",
      "Applying the following default arguments:\n",
      "--glue_kernel_version 1.0.6\n",
      "--enable-glue-datacatalog true\n",
      "Waiting for session 060c496e-7692-4913-a457-1506dede7a62 to get into ready status...\n",
      "Session 060c496e-7692-4913-a457-1506dede7a62 has been created.\n",
      "\n"
     ]
    }
   ],
   "source": [
    "from pyspark.sql import SparkSession\n",
    "\n",
    "spark = (\n",
    "    SparkSession\n",
    "    .builder\n",
    "    .appName(\"Python Spark SQL basic example\")\n",
    "    .getOrCreate()\n",
    ")"
   ]
  },
  {
   "cell_type": "code",
   "execution_count": 4,
   "id": "1654d9bd-5d15-4a14-a309-71c26639f0cf",
   "metadata": {},
   "outputs": [],
   "source": [
    "# develop and test your pyspark code here."
   ]
  },
  {
   "cell_type": "code",
   "execution_count": 6,
   "id": "f06ddf99-4b04-4c71-aa31-e5fb3bcb37f5",
   "metadata": {},
   "outputs": [
    {
     "name": "stdout",
     "output_type": "stream",
     "text": [
      "Stopping session: 060c496e-7692-4913-a457-1506dede7a62\n",
      "Stopped session.\n"
     ]
    }
   ],
   "source": [
    "%stop_session"
   ]
  }
 ],
 "metadata": {
  "kernelspec": {
   "display_name": "Glue PySpark",
   "language": "python",
   "name": "glue_pyspark"
  },
  "language_info": {
   "codemirror_mode": {
    "name": "python",
    "version": 3
   },
   "file_extension": ".py",
   "mimetype": "text/x-python",
   "name": "Python_Glue_Session",
   "pygments_lexer": "python3"
  }
 },
 "nbformat": 4,
 "nbformat_minor": 5
}
