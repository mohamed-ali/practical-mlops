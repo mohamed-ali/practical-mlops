{
 "cells": [
  {
   "cell_type": "markdown",
   "id": "78201c07-75ee-4f50-9dc0-028afd3d9d4e",
   "metadata": {},
   "source": [
    "# 1. Create an iceberg table with AWS Glue Catalog in python\n",
    "\n",
    "Using pyiceberg to create an iceberg dataset on S3;\n",
    "* https://py.iceberg.apache.org/#more-details "
   ]
  },
  {
   "cell_type": "markdown",
   "id": "cc0ff178-c2e3-430a-9e79-bbfeaf1a4d4a",
   "metadata": {},
   "source": [
    "## Setup"
   ]
  },
  {
   "cell_type": "code",
   "execution_count": 1,
   "id": "2b4acab4-bdb5-413b-ace6-412ae3287cac",
   "metadata": {},
   "outputs": [
    {
     "name": "stdout",
     "output_type": "stream",
     "text": [
      "Requirement already satisfied: pip in /opt/conda/lib/python3.10/site-packages (24.1.2)\n"
     ]
    }
   ],
   "source": [
    "!pip install --upgrade --no-warn-conflicts pip\n",
    "# you may need to reload the kernel to take pydantic version update into account\n",
    "!pip install -qU --no-warn-conflicts pydantic\n",
    "!pip install -q --no-warn-conflicts \"pyiceberg[s3fs,hive,glue,sql-sqlite]\""
   ]
  },
  {
   "cell_type": "code",
   "execution_count": 2,
   "id": "3541d3bf-2016-427b-b043-bcf179984fcb",
   "metadata": {},
   "outputs": [
    {
     "data": {
      "text/html": [
       "<script>Jupyter.notebook.kernel.restart()</script>"
      ],
      "text/plain": [
       "<IPython.core.display.HTML object>"
      ]
     },
     "metadata": {},
     "output_type": "display_data"
    }
   ],
   "source": [
    "# restart kernel for packages to take effect\n",
    "from IPython.core.display import HTML\n",
    "display(HTML(\"<script>Jupyter.notebook.kernel.restart()</script>\"))"
   ]
  },
  {
   "cell_type": "code",
   "execution_count": 3,
   "id": "e7d672f7-5e37-495a-bb86-4fbcbe5b01f8",
   "metadata": {},
   "outputs": [
    {
     "name": "stdout",
     "output_type": "stream",
     "text": [
      "sagemaker.config INFO - Not applying SDK defaults from location: /etc/xdg/sagemaker/config.yaml\n",
      "sagemaker.config INFO - Not applying SDK defaults from location: /home/sagemaker-user/.config/sagemaker/config.yaml\n"
     ]
    }
   ],
   "source": [
    "import sagemaker\n",
    "\n",
    "default_bucket = sagemaker.Session().default_bucket()"
   ]
  },
  {
   "cell_type": "markdown",
   "id": "581b61d1-89f5-4afd-9088-a1e2c37d4118",
   "metadata": {},
   "source": [
    "## Iceberg with Glue catalog"
   ]
  },
  {
   "cell_type": "code",
   "execution_count": 4,
   "id": "a624e149-dddd-4486-8477-940839439d0a",
   "metadata": {},
   "outputs": [
    {
     "name": "stdout",
     "output_type": "stream",
     "text": [
      "  % Total    % Received % Xferd  Average Speed   Time    Time     Time  Current\n",
      "                                 Dload  Upload   Total   Spent    Left  Speed\n",
      "100 45.4M  100 45.4M    0     0   205M      0 --:--:-- --:--:-- --:--:--  206M\n"
     ]
    }
   ],
   "source": [
    "!curl https://d37ci6vzurychx.cloudfront.net/trip-data/yellow_tripdata_2023-01.parquet -o /tmp/yellow_tripdata_2023-01.parquet"
   ]
  },
  {
   "cell_type": "code",
   "execution_count": 5,
   "id": "aedba1fa-132c-446c-a3dd-d8e7fb8114f1",
   "metadata": {},
   "outputs": [
    {
     "name": "stdout",
     "output_type": "stream",
     "text": [
      "Overwriting /home/sagemaker-user/.pyiceberg.yaml\n"
     ]
    }
   ],
   "source": [
    "%%writefile ~/.pyiceberg.yaml\n",
    "catalog:\n",
    "  default:\n",
    "    type: glue"
   ]
  },
  {
   "cell_type": "code",
   "execution_count": 6,
   "id": "dc66f5c2-7ba1-454c-b268-add761a9fc57",
   "metadata": {},
   "outputs": [],
   "source": [
    "from pyiceberg.catalog import load_catalog\n",
    "from pyiceberg.table import Table\n",
    "from pyiceberg.schema import Schema\n",
    "from pyiceberg.types import DoubleType, StringType, TimestampType, NestedField\n",
    "from pyiceberg.partitioning import PartitionSpec, PartitionField\n",
    "from pyiceberg.transforms import YearTransform, MonthTransform, DayTransform\n",
    "from pyiceberg.table.sorting import SortOrder, SortField\n",
    "from pyiceberg.transforms import IdentityTransform"
   ]
  },
  {
   "cell_type": "code",
   "execution_count": 7,
   "id": "2cf99a7f-a6ad-4770-80ff-437e03368de4",
   "metadata": {},
   "outputs": [],
   "source": [
    "# Specify the Glue Catalog database name and URI\n",
    "glue_database_name = \"iceberg_glue_catalog\"\n",
    "catalog_name = \"iceberg_catalog\"  # replace with your catalog name\n",
    "glue_catalog_uri = f\"s3://{default_bucket}/{catalog_name}\"\n",
    "table_name = f\"{glue_database_name}.taxi_dataset\""
   ]
  },
  {
   "cell_type": "code",
   "execution_count": 8,
   "id": "7a500ace-2788-4ab2-9bd3-0e2e070ef227",
   "metadata": {},
   "outputs": [],
   "source": [
    "# Instantiate glue catalog\n",
    "glue_catalog = load_catalog(\"glue\", **{\"type\": \"glue\"})"
   ]
  },
  {
   "cell_type": "code",
   "execution_count": 9,
   "id": "025461d3-1f00-4da8-a7de-4b5fd4869809",
   "metadata": {},
   "outputs": [],
   "source": [
    "import pyarrow.parquet as pq\n",
    "\n",
    "df = pq.read_table(\"/tmp/yellow_tripdata_2023-01.parquet\")"
   ]
  },
  {
   "cell_type": "code",
   "execution_count": 10,
   "id": "79d98d94-9cb9-4ea9-81e3-82f8957dec33",
   "metadata": {},
   "outputs": [
    {
     "data": {
      "text/plain": [
       "VendorID: int64\n",
       "tpep_pickup_datetime: timestamp[us]\n",
       "tpep_dropoff_datetime: timestamp[us]\n",
       "passenger_count: double\n",
       "trip_distance: double\n",
       "RatecodeID: double\n",
       "store_and_fwd_flag: string\n",
       "PULocationID: int64\n",
       "DOLocationID: int64\n",
       "payment_type: int64\n",
       "fare_amount: double\n",
       "extra: double\n",
       "mta_tax: double\n",
       "tip_amount: double\n",
       "tolls_amount: double\n",
       "improvement_surcharge: double\n",
       "total_amount: double\n",
       "congestion_surcharge: double\n",
       "airport_fee: double\n",
       "-- schema metadata --\n",
       "pandas: '{\"index_columns\": [], \"column_indexes\": [], \"columns\": [{\"name\":' + 2492"
      ]
     },
     "execution_count": 10,
     "metadata": {},
     "output_type": "execute_result"
    }
   ],
   "source": [
    "df.schema"
   ]
  },
  {
   "cell_type": "code",
   "execution_count": 11,
   "id": "f90c707b-245b-4b7f-9ea1-448d3ddaa9a5",
   "metadata": {},
   "outputs": [
    {
     "name": "stdout",
     "output_type": "stream",
     "text": [
      "Database iceberg_glue_catalog already exists\n"
     ]
    }
   ],
   "source": [
    "try:\n",
    "    glue_catalog.create_namespace(glue_database_name)\n",
    "    print(f\"Namespace {glue_database_name} created\")\n",
    "except Exception as e:\n",
    "    print(e)\n",
    "    # table = catalog.load_table(\"default.taxi_dataset\")\n"
   ]
  },
  {
   "cell_type": "code",
   "execution_count": 12,
   "id": "b1aff4c9-5389-4a05-a20f-4ff22a572978",
   "metadata": {},
   "outputs": [
    {
     "name": "stdout",
     "output_type": "stream",
     "text": [
      "Table iceberg_glue_catalog.taxi_dataset already exists\n"
     ]
    }
   ],
   "source": [
    "try:\n",
    "    table = glue_catalog.create_table(\n",
    "        table_name,\n",
    "        schema=df.schema,\n",
    "        location=glue_catalog_uri\n",
    "    )\n",
    "    print(f\"table {table_name} created\")\n",
    "except Exception as e:\n",
    "    print(e)\n",
    "    table = glue_catalog.load_table(table_name)\n"
   ]
  },
  {
   "cell_type": "code",
   "execution_count": 13,
   "id": "ff6fdb32-d2e0-407e-befe-96e7ffd677b4",
   "metadata": {},
   "outputs": [
    {
     "data": {
      "text/plain": [
       "3066766"
      ]
     },
     "execution_count": 13,
     "metadata": {},
     "output_type": "execute_result"
    }
   ],
   "source": [
    "table.overwrite(df)\n",
    "len(table.scan().to_arrow())"
   ]
  },
  {
   "cell_type": "markdown",
   "id": "4f4ede01-9f0d-42aa-bcd6-ea91da501775",
   "metadata": {},
   "source": [
    "You can list all namespaces using\n",
    "\n",
    "```python\n",
    "namespaces = glue_catalog.list_namespaces()\n",
    "namespaces\n",
    "```\n",
    "\n",
    "Likewise, you can list all tables within a namespace as follows:\n",
    "\n",
    "```python\n",
    "for (namespace,) in namespaces:\n",
    "    print(f\"tables in namespace {namespace}\")\n",
    "    print(glue_catalog.list_tables(namespace))\n",
    "    print()\n",
    "```"
   ]
  },
  {
   "cell_type": "markdown",
   "id": "09f6d9f7-2563-417d-b8a8-b4e8d994e635",
   "metadata": {},
   "source": [
    "Below we list the tables in the current namespace (i.e database name)"
   ]
  },
  {
   "cell_type": "code",
   "execution_count": 14,
   "id": "d4b23959-18d4-4ef9-89a5-c3dde88da3ef",
   "metadata": {},
   "outputs": [
    {
     "data": {
      "text/plain": [
       "[('iceberg_glue_catalog', 'taxi_dataset')]"
      ]
     },
     "execution_count": 14,
     "metadata": {},
     "output_type": "execute_result"
    }
   ],
   "source": [
    "glue_catalog.list_tables(glue_database_name)"
   ]
  }
 ],
 "metadata": {
  "kernelspec": {
   "display_name": "Python 3 (ipykernel)",
   "language": "python",
   "name": "python3"
  },
  "language_info": {
   "codemirror_mode": {
    "name": "ipython",
    "version": 3
   },
   "file_extension": ".py",
   "mimetype": "text/x-python",
   "name": "python",
   "nbconvert_exporter": "python",
   "pygments_lexer": "ipython3",
   "version": "3.10.14"
  }
 },
 "nbformat": 4,
 "nbformat_minor": 5
}
